{
 "cells": [
  {
   "cell_type": "markdown",
   "id": "d90d6afc",
   "metadata": {},
   "source": [
    "# 1st code and problem"
   ]
  },
  {
   "cell_type": "markdown",
   "id": "05c3caf6",
   "metadata": {},
   "source": [
    "the code is \n",
    "\n",
    "\"Uifsf't b tfdsfu dpef ifme jo uif xpset zpv tff, cvu ju po mz nfbot tpnfuijoh fmtp\""
   ]
  },
  {
   "cell_type": "code",
   "execution_count": 2,
   "id": "33658067",
   "metadata": {},
   "outputs": [
    {
     "name": "stdout",
     "output_type": "stream",
     "text": [
      "f: 12\n",
      "t: 7\n",
      "p: 6\n",
      "u: 6\n",
      "i: 4\n",
      "o: 4\n",
      "e: 3\n",
      "j: 3\n",
      "m: 3\n",
      "s: 3\n",
      "b: 2\n",
      "d: 2\n",
      "n: 2\n",
      "v: 2\n",
      "z: 2\n",
      "c: 1\n",
      "h: 1\n",
      "x: 1\n"
     ]
    }
   ],
   "source": [
    "from collections import Counter\n",
    "import string\n",
    "\n",
    "def count_letters(the_code):\n",
    "    sentence = the_code.lower()\n",
    "    letters_only = [ char for char in sentence if char in string.ascii_lowercase ]\n",
    "    return Counter(letters_only)\n",
    "\n",
    "the_code = \"Uifsf't b tfdsfu dpef ifme jo uif xpset zpv tff, cvu ju po mz nfbot tpnfuijoh fmtp\"\n",
    "letter_counts = count_letters(the_code)\n",
    "\n",
    "for letter, count in sorted(letter_counts.items(), key=lambda x: (-x[1], x[0])):\n",
    "    print(f\"{letter}: {count}\")"
   ]
  },
  {
   "cell_type": "markdown",
   "id": "7d214f8b",
   "metadata": {},
   "source": [
    "a -> f 5 ta\n",
    "\n",
    "e -> t 15\n",
    "\n",
    "Uifsf't b tfdsfu dpef ifme jo uif xpset zpv tff, cvu ju po mz nfbot tpnfuijoh fmtp -> uiasa e b eadfau iame"
   ]
  },
  {
   "cell_type": "code",
   "execution_count": 3,
   "id": "3fac9735",
   "metadata": {},
   "outputs": [],
   "source": [
    "import string\n",
    "\n",
    "def normalize_text(text):\n",
    "    return ''.join(c.lower() for c in text if c.isalpha())\n",
    "\n",
    "def decrypt_vigenere(cipher_text, key):\n",
    "    alphabet = string.ascii_lowercase\n",
    "    key = normalize_text(key)\n",
    "    plain_text = ''\n",
    "    key_index = 0\n",
    "    for char in cipher_text:\n",
    "        if char.lower() in alphabet:\n",
    "            shift = alphabet.index(key[key_index])\n",
    "            new_index = (alphabet.index(char.lower()) - shift) % len(alphabet)\n",
    "            plain_char = alphabet[new_index]\n",
    "            plain_text += plain_char.upper() if char.isupper() else plain_char\n",
    "            key_index = (key_index + 1) % len(key)\n",
    "        else:\n",
    "            plain_text += char\n",
    "    return plain_text"
   ]
  },
  {
   "cell_type": "code",
   "execution_count": 30,
   "id": "6d96d311",
   "metadata": {},
   "outputs": [
    {
     "name": "stdout",
     "output_type": "stream",
     "text": [
      "Qebob'p x pbzobq zlab ebia fk qeb tloap vlr pbb, yrq fq lk iv jbxkp pljbqefkd bipl\n"
     ]
    }
   ],
   "source": [
    "chipher_txt = \"Uifsf't b tfdsfu dpef ifme jo uif xpset zpv tff, cvu ju po mz nfbot tpnfuijoh fmtp\"\n",
    "key = 'e'\n",
    "print(decrypt_vigenere(chipher_txt, key))"
   ]
  },
  {
   "cell_type": "code",
   "execution_count": 5,
   "id": "ee336564",
   "metadata": {},
   "outputs": [
    {
     "name": "stdout",
     "output_type": "stream",
     "text": [
      "Attack at dawn\n"
     ]
    }
   ],
   "source": [
    "chipher_txt = \"Lxfopv ef rnhr\"\n",
    "key = 'lemon'\n",
    "print(decrypt_vigenere(chipher_txt, key))"
   ]
  },
  {
   "cell_type": "markdown",
   "id": "90cccd6e",
   "metadata": {},
   "source": [
    "# 2nd code and problem"
   ]
  },
  {
   "cell_type": "markdown",
   "id": "f4ef036a",
   "metadata": {},
   "source": [
    "code = \"Vkrzphqw'v wkh frgh, exw wkh frgh lv qrw dw wkh orrnv brx vhh\""
   ]
  },
  {
   "cell_type": "code",
   "execution_count": 6,
   "id": "b74e5e7c",
   "metadata": {},
   "outputs": [],
   "source": [
    "import string\n",
    "\n",
    "def Casar_decrypt(cipher_text, shift):\n",
    "    alphabet = string.ascii_lowercase\n",
    "    decrypted_text = ''\n",
    "    for char in cipher_text:\n",
    "        if char.lower() in alphabet:\n",
    "            index = alphabet.index(char.lower())\n",
    "            new_index = (index - shift) % 26\n",
    "            decrypted_char = alphabet[new_index]\n",
    "            decrypted_text += decrypted_char.upper() if char.isupper() else decrypted_char\n",
    "        else:\n",
    "            decrypted_text += char\n",
    "    return decrypted_text\n"
   ]
  },
  {
   "cell_type": "code",
   "execution_count": 7,
   "id": "cbaabc23",
   "metadata": {},
   "outputs": [
    {
     "name": "stdout",
     "output_type": "stream",
     "text": [
      "There's a secret code held in the words you see, but it on ly means something elso\n"
     ]
    }
   ],
   "source": [
    "cipher_txt = \"Uifsf't b tfdsfu dpef ifme jo uif xpset zpv tff, cvu ju po mz nfbot tpnfuijoh fmtp\"\n",
    "shift = 1\n",
    "print(Casar_decrypt(cipher_txt, shift))"
   ]
  },
  {
   "cell_type": "code",
   "execution_count": 8,
   "id": "e1607632",
   "metadata": {},
   "outputs": [
    {
     "name": "stdout",
     "output_type": "stream",
     "text": [
      "Showment's the code, but the code is not at the looks you see.\n"
     ]
    }
   ],
   "source": [
    "cipher_txt = \"Vkrzphqw'v wkh frgh, exw wkh frgh lv qrw dw wkh orrnv brx vhh.\"\n",
    "shift = 3\n",
    "print(Casar_decrypt(cipher_txt, shift))"
   ]
  },
  {
   "cell_type": "code",
   "execution_count": 9,
   "id": "b9d9d3c8",
   "metadata": {},
   "outputs": [
    {
     "name": "stdout",
     "output_type": "stream",
     "text": [
      "serted out message, that only our code sensts.\n"
     ]
    }
   ],
   "source": [
    "cipher_text = \"vhuwhg rxw phvvdjh, wkdw rqob rxu frgh vhqvwv.\"\n",
    "shift = 3\n",
    "\n",
    "print(Casar_decrypt(cipher_text, shift))"
   ]
  },
  {
   "cell_type": "code",
   "execution_count": 10,
   "id": "40d4884e",
   "metadata": {},
   "outputs": [
    {
     "name": "stdout",
     "output_type": "stream",
     "text": [
      "this is cypher text: Cadbc wx xwn, wxc nenw hxda bqjmxf.\n"
     ]
    }
   ],
   "source": [
    "import random\n",
    "import string\n",
    "\n",
    "def random_caesar_encrypt(text, shift):\n",
    "    alphabet = string.ascii_lowercase\n",
    "    encrypted = ''\n",
    "    for char in text:\n",
    "        if char.lower() in alphabet:\n",
    "            index = alphabet.index(char.lower())\n",
    "            new_char = alphabet[(index + shift) % 26]\n",
    "            encrypted += new_char.upper() if char.isupper() else new_char\n",
    "        else:\n",
    "            encrypted += char\n",
    "    return encrypted\n",
    "\n",
    "\n",
    "def get_random_sentence():\n",
    "    samples = [\n",
    "        \"Attack at dawn and hold the line.\",\n",
    "        \"The code is hidden within the message.\",\n",
    "        \"Only the wise can find the truth beneath lies.\",\n",
    "        \"Secrets are best kept in plain sight.\",\n",
    "        \"The signal will come at midnight exactly.\",\n",
    "        \"Trust no one, not even your shadow.\",\n",
    "        \"Knowledge is the ultimate weapon in war.\"\n",
    "    ]\n",
    "    return random.choice(samples)\n",
    "\n",
    "text = get_random_sentence()\n",
    "shift = random.randint(1, 25)\n",
    "encrypted_text = random_caesar_encrypt(text, shift)\n",
    "print(f\"this is cypher text: {encrypted_text}\")"
   ]
  },
  {
   "cell_type": "code",
   "execution_count": 11,
   "id": "55df6bd1",
   "metadata": {},
   "outputs": [],
   "source": [
    "import string\n",
    "#from collections import Counter\n",
    "\n",
    "def caesar_decrypt(text, shift):\n",
    "    alphabet = string.ascii_lowercase\n",
    "    decrypted = ''\n",
    "    for char in text:\n",
    "        if char.lower() in alphabet:\n",
    "            index = alphabet.index(char.lower())\n",
    "            new_char = alphabet[(index - shift) % 26]\n",
    "            decrypted += new_char.upper() if char.isupper() else new_char\n",
    "        else:\n",
    "            decrypted += char\n",
    "    return decrypted\n",
    "\n",
    "def english_score(text):\n",
    "    common_words = ['the', 'and', 'you', 'that', 'have', 'for', 'not', 'with']\n",
    "    text_lower = text.lower()\n",
    "    return sum(text_lower.count(word) for word in common_words)\n",
    "\n",
    "def auto_caesar_decrypt(cipher_text):\n",
    "    candidates = [\n",
    "        (shift, caesar_decrypt(cipher_text, shift))\n",
    "        for shift in range(1, 26)\n",
    "    ]\n",
    "    scored = [(shift, text, english_score(text)) for shift, text in candidates]\n",
    "    scored.sort(key=lambda x: x[2], reverse=True)\n",
    "    best_shift, best_text, _ = scored[0]\n",
    "    return best_shift, best_text"
   ]
  },
  {
   "cell_type": "code",
   "execution_count": 16,
   "id": "f8330d9f",
   "metadata": {},
   "outputs": [
    {
     "name": "stdout",
     "output_type": "stream",
     "text": [
      "Detected shift: 9\n",
      "Decrypted text: Trust no one, not even your shadow.\n"
     ]
    }
   ],
   "source": [
    "cipher = encrypted_text\n",
    "shift, plain = auto_caesar_decrypt(cipher)\n",
    "print(f\"Detected shift: {shift}\")\n",
    "print(\"Decrypted text:\", plain)"
   ]
  }
 ],
 "metadata": {
  "kernelspec": {
   "display_name": "venv",
   "language": "python",
   "name": "python3"
  },
  "language_info": {
   "codemirror_mode": {
    "name": "ipython",
    "version": 3
   },
   "file_extension": ".py",
   "mimetype": "text/x-python",
   "name": "python",
   "nbconvert_exporter": "python",
   "pygments_lexer": "ipython3",
   "version": "3.13.3"
  }
 },
 "nbformat": 4,
 "nbformat_minor": 5
}
